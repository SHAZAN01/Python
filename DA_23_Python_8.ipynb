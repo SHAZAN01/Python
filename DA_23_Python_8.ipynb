{
  "nbformat": 4,
  "nbformat_minor": 0,
  "metadata": {
    "colab": {
      "provenance": [],
      "include_colab_link": true
    },
    "kernelspec": {
      "name": "python3",
      "display_name": "Python 3"
    },
    "language_info": {
      "name": "python"
    }
  },
  "cells": [
    {
      "cell_type": "markdown",
      "metadata": {
        "id": "view-in-github",
        "colab_type": "text"
      },
      "source": [
        "<a href=\"https://colab.research.google.com/github/SHAZAN01/Python/blob/main/DA_23_Python_8.ipynb\" target=\"_parent\"><img src=\"https://colab.research.google.com/assets/colab-badge.svg\" alt=\"Open In Colab\"/></a>"
      ]
    },
    {
      "cell_type": "markdown",
      "source": [
        "File Operations:\n",
        "1. To Open a file\n",
        "2. File operation (read,write,append)\n",
        "3. To close a file"
      ],
      "metadata": {
        "id": "0zChX5-D9FnT"
      }
    },
    {
      "cell_type": "code",
      "source": [
        "!ls"
      ],
      "metadata": {
        "colab": {
          "base_uri": "https://localhost:8080/"
        },
        "id": "vcUjyVISps4d",
        "outputId": "dac7dca0-d324-4a27-864f-77d7efc21d93"
      },
      "execution_count": null,
      "outputs": [
        {
          "output_type": "stream",
          "name": "stdout",
          "text": [
            "1.txt  sample_data\n"
          ]
        }
      ]
    },
    {
      "cell_type": "markdown",
      "source": [
        "read"
      ],
      "metadata": {
        "id": "P-5oaIc_vz-A"
      }
    },
    {
      "cell_type": "code",
      "source": [
        "f = open('/content/1.txt','r')\n",
        "print(f.read())\n",
        "f.close()"
      ],
      "metadata": {
        "colab": {
          "base_uri": "https://localhost:8080/"
        },
        "id": "fjJ3zS9XpSt-",
        "outputId": "8237579b-8312-46a6-d099-e3130f9ffc7d"
      },
      "execution_count": null,
      "outputs": [
        {
          "output_type": "stream",
          "name": "stdout",
          "text": [
            "Hey How are you?\n"
          ]
        }
      ]
    },
    {
      "cell_type": "code",
      "source": [
        "f = open('/content/1.txt')\n",
        "print(f.read())\n",
        "f.close()"
      ],
      "metadata": {
        "colab": {
          "base_uri": "https://localhost:8080/"
        },
        "id": "AUtSox6Iq5Xd",
        "outputId": "00a73747-fb09-4fa4-e58f-56542a4830f5"
      },
      "execution_count": null,
      "outputs": [
        {
          "output_type": "stream",
          "name": "stdout",
          "text": [
            "Hey How are you?\n",
            "Mujtaba is a very bad cricekter\n"
          ]
        }
      ]
    },
    {
      "cell_type": "code",
      "source": [
        "with open('/content/1.txt') as f :\n",
        "    print(f.read())"
      ],
      "metadata": {
        "colab": {
          "base_uri": "https://localhost:8080/"
        },
        "id": "TN5O1FsPrDSr",
        "outputId": "6df2924d-a7ad-4597-bd2d-e98ded66973a"
      },
      "execution_count": null,
      "outputs": [
        {
          "output_type": "stream",
          "name": "stdout",
          "text": [
            "Hey How are you?\n",
            "Mujtaba is a very bad cricekter\n"
          ]
        }
      ]
    },
    {
      "cell_type": "code",
      "source": [
        "with open('/content/1.txt') as f :\n",
        "    print(f.readlines())"
      ],
      "metadata": {
        "colab": {
          "base_uri": "https://localhost:8080/"
        },
        "id": "xd1VbhdvtRKn",
        "outputId": "f63c8aa7-6600-44c1-cd5e-1760c8252029"
      },
      "execution_count": null,
      "outputs": [
        {
          "output_type": "stream",
          "name": "stdout",
          "text": [
            "['Hey How are you?\\n', 'Mujtaba is a very bad cricekter']\n"
          ]
        }
      ]
    },
    {
      "cell_type": "code",
      "source": [
        "with open('/content/1.txt') as f :\n",
        "    print(f.readline())\n",
        "    print(f.readline())"
      ],
      "metadata": {
        "colab": {
          "base_uri": "https://localhost:8080/"
        },
        "id": "dL-guIDAthN-",
        "outputId": "17732d70-c94a-4070-a37e-6a953ba6a4f5"
      },
      "execution_count": null,
      "outputs": [
        {
          "output_type": "stream",
          "name": "stdout",
          "text": [
            "Hey How are you?\n",
            "\n",
            "Mujtaba is a very bad cricekter\n"
          ]
        }
      ]
    },
    {
      "cell_type": "code",
      "source": [
        "with open('/content/1.txt') as f :\n",
        "   for i in f:\n",
        "        print(i)"
      ],
      "metadata": {
        "colab": {
          "base_uri": "https://localhost:8080/"
        },
        "id": "I74MBQ0GuHUo",
        "outputId": "3b1375c6-2b51-4a7d-bb4e-f3b7ce878c73"
      },
      "execution_count": null,
      "outputs": [
        {
          "output_type": "stream",
          "name": "stdout",
          "text": [
            "Hey How are you?\n",
            "\n",
            "Mujtaba is a very bad cricekter\n"
          ]
        }
      ]
    },
    {
      "cell_type": "markdown",
      "metadata": {
        "id": "bjwRmvUl4gh0"
      },
      "source": [
        "wrting the file\n",
        "* If you open a file which is not there yet, a Newfile will be created.\n",
        "* If you open a file which is already existing in write mode, It overwrites the content."
      ]
    },
    {
      "cell_type": "code",
      "source": [
        "with open('/content/11.txt','w') as f :\n",
        "    f.write('Hello there!')\n"
      ],
      "metadata": {
        "id": "qIivugwfuehn"
      },
      "execution_count": null,
      "outputs": []
    },
    {
      "cell_type": "code",
      "source": [
        "with open('/content/11.txt') as f :\n",
        "    print(f.read())\n"
      ],
      "metadata": {
        "colab": {
          "base_uri": "https://localhost:8080/"
        },
        "id": "2DR4xq6YvNWG",
        "outputId": "0b5ac010-93c1-4de7-f399-6b2e0e9716b2"
      },
      "execution_count": null,
      "outputs": [
        {
          "output_type": "stream",
          "name": "stdout",
          "text": [
            "Hello there!\n"
          ]
        }
      ]
    },
    {
      "cell_type": "code",
      "source": [
        "with open('/content/11.txt','w') as f :\n",
        "    f.write('Hey there!')\n"
      ],
      "metadata": {
        "id": "j8Ftl3LYwTbs"
      },
      "execution_count": null,
      "outputs": []
    },
    {
      "cell_type": "code",
      "source": [
        "with open('/content/11.txt','a') as f :\n",
        "    f.writelines(['Hi there!','I am ggod','great'])\n"
      ],
      "metadata": {
        "id": "T3yaedKNw8-N"
      },
      "execution_count": null,
      "outputs": []
    },
    {
      "cell_type": "code",
      "source": [],
      "metadata": {
        "id": "EbNcywEMw8oi"
      },
      "execution_count": null,
      "outputs": []
    },
    {
      "cell_type": "markdown",
      "source": [
        "append"
      ],
      "metadata": {
        "id": "j5QOlSkTwdmX"
      }
    },
    {
      "cell_type": "code",
      "source": [
        "with open('/content/11.txt','a') as f :\n",
        "    f.write('\\n Hey there!')\n"
      ],
      "metadata": {
        "id": "J-qA47udwdOK"
      },
      "execution_count": null,
      "outputs": []
    },
    {
      "cell_type": "markdown",
      "source": [
        "###Modules\n",
        "\n",
        "1. Os module\n",
        "2. Math module\n",
        "3. Statistics module\n",
        "4. Random module\n",
        "5. Date time module"
      ],
      "metadata": {
        "id": "NJ87z33BdlCV"
      }
    },
    {
      "cell_type": "markdown",
      "source": [
        "os module"
      ],
      "metadata": {
        "id": "tYOOIIH7f07G"
      }
    },
    {
      "cell_type": "code",
      "source": [
        "import os"
      ],
      "metadata": {
        "id": "LVd87hvtdnL6"
      },
      "execution_count": null,
      "outputs": []
    },
    {
      "cell_type": "code",
      "source": [
        "os.getcwd()"
      ],
      "metadata": {
        "colab": {
          "base_uri": "https://localhost:8080/",
          "height": 35
        },
        "id": "AWQWsTP5gJsP",
        "outputId": "71868d00-4241-4305-e03f-d7c4037b08fe"
      },
      "execution_count": null,
      "outputs": [
        {
          "output_type": "execute_result",
          "data": {
            "text/plain": [
              "'/content/sample_data'"
            ],
            "application/vnd.google.colaboratory.intrinsic+json": {
              "type": "string"
            }
          },
          "metadata": {},
          "execution_count": 5
        }
      ]
    },
    {
      "cell_type": "code",
      "source": [
        "os.chdir('sample_data')"
      ],
      "metadata": {
        "id": "LVN6V_wmg2H_"
      },
      "execution_count": null,
      "outputs": []
    },
    {
      "cell_type": "code",
      "source": [
        "os.listdir()"
      ],
      "metadata": {
        "colab": {
          "base_uri": "https://localhost:8080/"
        },
        "id": "oumKf_12hBkM",
        "outputId": "6b37dd68-4195-4261-9cb5-715b58327383"
      },
      "execution_count": null,
      "outputs": [
        {
          "output_type": "execute_result",
          "data": {
            "text/plain": [
              "['README.md',\n",
              " 'anscombe.json',\n",
              " 'mnist_test.csv',\n",
              " 'california_housing_test.csv',\n",
              " 'mnist_train_small.csv',\n",
              " 'california_housing_train.csv']"
            ]
          },
          "metadata": {},
          "execution_count": 6
        }
      ]
    },
    {
      "cell_type": "code",
      "source": [
        "os.getcwd()"
      ],
      "metadata": {
        "colab": {
          "base_uri": "https://localhost:8080/",
          "height": 35
        },
        "id": "Oj5HEeukjo1Z",
        "outputId": "677d7e84-9a18-408e-e7a0-e0fe8ea11e20"
      },
      "execution_count": null,
      "outputs": [
        {
          "output_type": "execute_result",
          "data": {
            "text/plain": [
              "'/content/sample_data'"
            ],
            "application/vnd.google.colaboratory.intrinsic+json": {
              "type": "string"
            }
          },
          "metadata": {},
          "execution_count": 7
        }
      ]
    },
    {
      "cell_type": "code",
      "source": [
        "os.listdir('../../')"
      ],
      "metadata": {
        "id": "lJ9O4QXDjwST"
      },
      "execution_count": null,
      "outputs": []
    },
    {
      "cell_type": "markdown",
      "source": [
        "###Math module"
      ],
      "metadata": {
        "id": "Y9q3a8hckQSh"
      }
    },
    {
      "cell_type": "code",
      "source": [
        "import math"
      ],
      "metadata": {
        "id": "7BbgL0NZkSWW"
      },
      "execution_count": null,
      "outputs": []
    },
    {
      "cell_type": "code",
      "source": [
        "# 2**3\n",
        "# math.pow(2,3)\n",
        "# math.pi\n",
        "# math.sqrt(16)\n",
        "math.log()\n"
      ],
      "metadata": {
        "colab": {
          "base_uri": "https://localhost:8080/"
        },
        "id": "wK_rC5sXkW5x",
        "outputId": "a29072a8-8053-4466-e428-0a5f9c6fa758"
      },
      "execution_count": null,
      "outputs": [
        {
          "output_type": "execute_result",
          "data": {
            "text/plain": [
              "4.0"
            ]
          },
          "metadata": {},
          "execution_count": 13
        }
      ]
    },
    {
      "cell_type": "code",
      "source": [
        "import statistics as st\n",
        "# st.mean([1,2,3,4,5])\n",
        "# st.median([1,2,3,4,5])\n",
        "st.mode([1,2,3,3,4,5])\n"
      ],
      "metadata": {
        "colab": {
          "base_uri": "https://localhost:8080/"
        },
        "id": "9GVhQaBaldgY",
        "outputId": "7299f215-e985-4756-ef45-f5c633e70da5"
      },
      "execution_count": null,
      "outputs": [
        {
          "output_type": "execute_result",
          "data": {
            "text/plain": [
              "3"
            ]
          },
          "metadata": {},
          "execution_count": 16
        }
      ]
    },
    {
      "cell_type": "code",
      "source": [
        "import random\n",
        "# random.random() #0-1\n",
        "# random.randint(1,6)\n",
        "# random.randrange(0,10,2)\n",
        "# random.randrange(1,10,2)\n",
        "# random.choice('python')\n",
        "# random.choice([1,2,3,4])\n",
        "a = [1,2,3,4]\n",
        "random.shuffle(a)\n",
        "a"
      ],
      "metadata": {
        "colab": {
          "base_uri": "https://localhost:8080/"
        },
        "id": "lw966d5QlvCU",
        "outputId": "04924a1a-3f1e-4094-a9c5-14523fad9dae"
      },
      "execution_count": null,
      "outputs": [
        {
          "output_type": "execute_result",
          "data": {
            "text/plain": [
              "[4, 1, 3, 2]"
            ]
          },
          "metadata": {},
          "execution_count": 33
        }
      ]
    },
    {
      "cell_type": "markdown",
      "source": [
        "Date time module:\n",
        "\n",
        "*   datetime class\n",
        "*   date class\n",
        "*   time class\n",
        "*   time delta class\n",
        "\n"
      ],
      "metadata": {
        "id": "zfvzR_vRthYR"
      }
    },
    {
      "cell_type": "code",
      "source": [
        "import datetime as dt\n",
        "dt.datetime.now()\n",
        "#year, month, day, hour, minute, seconds, microseconds"
      ],
      "metadata": {
        "colab": {
          "base_uri": "https://localhost:8080/"
        },
        "id": "NmR4LCTEtgZY",
        "outputId": "9992f284-6bfc-4900-f94b-b61349a58e77"
      },
      "execution_count": null,
      "outputs": [
        {
          "output_type": "execute_result",
          "data": {
            "text/plain": [
              "datetime.datetime(2023, 5, 17, 12, 38, 32, 459976)"
            ]
          },
          "metadata": {},
          "execution_count": 35
        }
      ]
    },
    {
      "cell_type": "code",
      "source": [
        "dt.datetime.now().timestamp()"
      ],
      "metadata": {
        "colab": {
          "base_uri": "https://localhost:8080/"
        },
        "id": "O81WXwU8uffC",
        "outputId": "d7f08609-1693-4c76-a470-88a413942c82"
      },
      "execution_count": null,
      "outputs": [
        {
          "output_type": "execute_result",
          "data": {
            "text/plain": [
              "1684327311.27687"
            ]
          },
          "metadata": {},
          "execution_count": 36
        }
      ]
    },
    {
      "cell_type": "code",
      "source": [
        "a = dt.datetime(1991,12,12)"
      ],
      "metadata": {
        "id": "tujv-2p5vJBC"
      },
      "execution_count": null,
      "outputs": []
    },
    {
      "cell_type": "code",
      "source": [
        "# date module\n",
        "from datetime import date\n",
        "date.today()"
      ],
      "metadata": {
        "colab": {
          "base_uri": "https://localhost:8080/"
        },
        "id": "-JcxyHpgvmJ_",
        "outputId": "082f66f4-c7f9-406e-bb13-b63034f6eb2b"
      },
      "execution_count": null,
      "outputs": [
        {
          "output_type": "execute_result",
          "data": {
            "text/plain": [
              "datetime.date(2023, 5, 17)"
            ]
          },
          "metadata": {},
          "execution_count": 40
        }
      ]
    },
    {
      "cell_type": "code",
      "source": [
        "from datetime import time\n",
        "# a = time(20,10,11)\n",
        "a = time(hour=20,minute=10,second=11)\n",
        "a.hour\n",
        "a.minute\n",
        "a.second"
      ],
      "metadata": {
        "colab": {
          "base_uri": "https://localhost:8080/"
        },
        "id": "DJppLHspw499",
        "outputId": "813ca1c4-d99b-4d7b-e103-a7bc01aa3792"
      },
      "execution_count": null,
      "outputs": [
        {
          "output_type": "execute_result",
          "data": {
            "text/plain": [
              "11"
            ]
          },
          "metadata": {},
          "execution_count": 48
        }
      ]
    },
    {
      "cell_type": "code",
      "source": [
        "from datetime import timedelta\n",
        "a = timedelta(hours=20,minutes=20,seconds=50)\n",
        "b = timedelta(hours=10,minutes=10,seconds=10)\n",
        "a-b"
      ],
      "metadata": {
        "colab": {
          "base_uri": "https://localhost:8080/"
        },
        "id": "c4tU6iyAxQuw",
        "outputId": "22078a95-00f8-4301-b1cf-b44dc399216d"
      },
      "execution_count": null,
      "outputs": [
        {
          "output_type": "execute_result",
          "data": {
            "text/plain": [
              "datetime.timedelta(seconds=36640)"
            ]
          },
          "metadata": {},
          "execution_count": 51
        }
      ]
    },
    {
      "cell_type": "code",
      "source": [
        "a = timedelta(days=20,hours=20)\n",
        "b = timedelta(days=10,hours=10)\n",
        "a-b"
      ],
      "metadata": {
        "colab": {
          "base_uri": "https://localhost:8080/"
        },
        "id": "6OYbl-w2yubJ",
        "outputId": "931681db-a06d-46ac-a73e-bfef4c95923a"
      },
      "execution_count": null,
      "outputs": [
        {
          "output_type": "execute_result",
          "data": {
            "text/plain": [
              "datetime.timedelta(days=10, seconds=36000)"
            ]
          },
          "metadata": {},
          "execution_count": 52
        }
      ]
    },
    {
      "cell_type": "code",
      "source": [
        "a = timedelta(weeks=20,hours=20,seconds=50)\n",
        "b = timedelta(weeks=10,hours=10,seconds=10)\n",
        "a-b"
      ],
      "metadata": {
        "colab": {
          "base_uri": "https://localhost:8080/"
        },
        "id": "KRpzz9LPy4XA",
        "outputId": "efb4b9af-eb9c-4bd3-d3dc-fb199540e31b"
      },
      "execution_count": null,
      "outputs": [
        {
          "output_type": "execute_result",
          "data": {
            "text/plain": [
              "datetime.timedelta(days=70, seconds=36040)"
            ]
          },
          "metadata": {},
          "execution_count": 53
        }
      ]
    },
    {
      "cell_type": "code",
      "source": [
        "a = timedelta(weeks=7,hours=20,minutes=30,seconds=50)\n",
        "b = timedelta(weeks=3,hours=10,minutes=10,seconds=10)\n",
        "print(a-b)"
      ],
      "metadata": {
        "colab": {
          "base_uri": "https://localhost:8080/"
        },
        "id": "yg49ic2-zI76",
        "outputId": "c607ae42-dda2-42a0-df8d-09f2b0e1378b"
      },
      "execution_count": null,
      "outputs": [
        {
          "output_type": "stream",
          "name": "stdout",
          "text": [
            "28 days, 10:20:40\n"
          ]
        }
      ]
    },
    {
      "cell_type": "markdown",
      "source": [
        "### Exception Handling:\n",
        "1. Syntax\n",
        "2. Logical"
      ],
      "metadata": {
        "id": "XIQIA-_tz-RF"
      }
    },
    {
      "cell_type": "code",
      "source": [
        " print(dir(locals()['__builtins__']))"
      ],
      "metadata": {
        "colab": {
          "base_uri": "https://localhost:8080/"
        },
        "id": "g3ExorJJ0ZCx",
        "outputId": "bb44a87d-b498-4f8c-e789-44bf8859afa6"
      },
      "execution_count": null,
      "outputs": [
        {
          "output_type": "stream",
          "name": "stdout",
          "text": [
            "['ArithmeticError', 'AssertionError', 'AttributeError', 'BaseException', 'BlockingIOError', 'BrokenPipeError', 'BufferError', 'BytesWarning', 'ChildProcessError', 'ConnectionAbortedError', 'ConnectionError', 'ConnectionRefusedError', 'ConnectionResetError', 'DeprecationWarning', 'EOFError', 'Ellipsis', 'EncodingWarning', 'EnvironmentError', 'Exception', 'False', 'FileExistsError', 'FileNotFoundError', 'FloatingPointError', 'FutureWarning', 'GeneratorExit', 'IOError', 'ImportError', 'ImportWarning', 'IndentationError', 'IndexError', 'InterruptedError', 'IsADirectoryError', 'KeyError', 'KeyboardInterrupt', 'LookupError', 'MemoryError', 'ModuleNotFoundError', 'NameError', 'None', 'NotADirectoryError', 'NotImplemented', 'NotImplementedError', 'OSError', 'OverflowError', 'PendingDeprecationWarning', 'PermissionError', 'ProcessLookupError', 'RecursionError', 'ReferenceError', 'ResourceWarning', 'RuntimeError', 'RuntimeWarning', 'StopAsyncIteration', 'StopIteration', 'SyntaxError', 'SyntaxWarning', 'SystemError', 'SystemExit', 'TabError', 'TimeoutError', 'True', 'TypeError', 'UnboundLocalError', 'UnicodeDecodeError', 'UnicodeEncodeError', 'UnicodeError', 'UnicodeTranslateError', 'UnicodeWarning', 'UserWarning', 'ValueError', 'Warning', 'ZeroDivisionError', '__IPYTHON__', '__build_class__', '__debug__', '__doc__', '__import__', '__loader__', '__name__', '__package__', '__spec__', 'abs', 'aiter', 'all', 'anext', 'any', 'ascii', 'bin', 'bool', 'breakpoint', 'bytearray', 'bytes', 'callable', 'chr', 'classmethod', 'compile', 'complex', 'copyright', 'credits', 'delattr', 'dict', 'dir', 'display', 'divmod', 'enumerate', 'eval', 'exec', 'execfile', 'filter', 'float', 'format', 'frozenset', 'get_ipython', 'getattr', 'globals', 'hasattr', 'hash', 'help', 'hex', 'id', 'input', 'int', 'isinstance', 'issubclass', 'iter', 'len', 'license', 'list', 'locals', 'map', 'max', 'memoryview', 'min', 'next', 'object', 'oct', 'open', 'ord', 'pow', 'print', 'property', 'range', 'repr', 'reversed', 'round', 'runfile', 'set', 'setattr', 'slice', 'sorted', 'staticmethod', 'str', 'sum', 'super', 'tuple', 'type', 'vars', 'zip']\n"
          ]
        }
      ]
    },
    {
      "cell_type": "code",
      "source": [
        "# Without error\n",
        "try:\n",
        "    print('I am try block')\n",
        "except:\n",
        "    print('I am except block')\n",
        "else:\n",
        "    print('I am else block')\n",
        "finally:\n",
        "    print('I am finally block')"
      ],
      "metadata": {
        "colab": {
          "base_uri": "https://localhost:8080/"
        },
        "id": "Im3mhnOn0Y_Z",
        "outputId": "10d191a8-0ed8-4d0d-c663-1fa22c0476de"
      },
      "execution_count": null,
      "outputs": [
        {
          "output_type": "stream",
          "name": "stdout",
          "text": [
            "I am try block\n",
            "I am else block\n",
            "I am finally block\n"
          ]
        }
      ]
    },
    {
      "cell_type": "code",
      "source": [
        "# Without error\n",
        "try:\n",
        "    print('I am try block')\n",
        "except:\n",
        "    print('I am except block')\n",
        "else:\n",
        "    print('I am else block')"
      ],
      "metadata": {
        "colab": {
          "base_uri": "https://localhost:8080/"
        },
        "id": "YYP5ni7j5l_l",
        "outputId": "20401315-170a-4cc2-ccb0-1d83b608f515"
      },
      "execution_count": null,
      "outputs": [
        {
          "output_type": "stream",
          "name": "stdout",
          "text": [
            "I am try block\n",
            "I am else block\n"
          ]
        }
      ]
    },
    {
      "cell_type": "code",
      "source": [
        "# Without error\n",
        "try:\n",
        "    print('I am try block')\n",
        "except:\n",
        "    print('I am except block')"
      ],
      "metadata": {
        "colab": {
          "base_uri": "https://localhost:8080/"
        },
        "id": "mutTKfKk5sKl",
        "outputId": "e384dd84-c3fd-428b-93bb-ed1fce4f2a04"
      },
      "execution_count": null,
      "outputs": [
        {
          "output_type": "stream",
          "name": "stdout",
          "text": [
            "I am try block\n"
          ]
        }
      ]
    },
    {
      "cell_type": "code",
      "source": [
        "# Without error\n",
        "try:\n",
        "    print('I am try block')\n",
        "finally:\n",
        "    print('I am finally block')"
      ],
      "metadata": {
        "colab": {
          "base_uri": "https://localhost:8080/"
        },
        "id": "0wfDzLKZ5-VZ",
        "outputId": "146e3425-eef6-457f-a5a7-c1288619d45f"
      },
      "execution_count": null,
      "outputs": [
        {
          "output_type": "stream",
          "name": "stdout",
          "text": [
            "I am try block\n",
            "I am finally block\n"
          ]
        }
      ]
    },
    {
      "cell_type": "code",
      "source": [
        "# Without error\n",
        "try:\n",
        "    print('I am try block')\n",
        "finally:\n",
        "    print('I am finally block')"
      ],
      "metadata": {
        "id": "VCVkVhNE6NZm"
      },
      "execution_count": null,
      "outputs": []
    },
    {
      "cell_type": "code",
      "source": [
        "try:\n",
        "    Print('I am try block')\n",
        "except:\n",
        "    print('I am except block')\n",
        "else:\n",
        "    print('I am else block')\n",
        "finally:\n",
        "    print('I am finally block')"
      ],
      "metadata": {
        "colab": {
          "base_uri": "https://localhost:8080/"
        },
        "id": "YPYTDavU8Iv4",
        "outputId": "7c5616a3-3810-4401-c80f-477b0efff47c"
      },
      "execution_count": null,
      "outputs": [
        {
          "output_type": "stream",
          "name": "stdout",
          "text": [
            "I am except block\n",
            "I am finally block\n"
          ]
        }
      ]
    },
    {
      "cell_type": "code",
      "source": [
        "try:\n",
        "    print('I am try block')\n",
        "    print(abc)\n",
        "except:\n",
        "    print('I am except block')\n",
        "else:\n",
        "    print('I am else block')\n",
        "finally:\n",
        "    print('I am finally block')"
      ],
      "metadata": {
        "colab": {
          "base_uri": "https://localhost:8080/"
        },
        "id": "mB4ogeMz8SHu",
        "outputId": "b37d73ee-fe3b-4fbb-a8c6-cf9ac414c51e"
      },
      "execution_count": null,
      "outputs": [
        {
          "output_type": "stream",
          "name": "stdout",
          "text": [
            "I am try block\n",
            "I am except block\n",
            "I am finally block\n"
          ]
        }
      ]
    },
    {
      "cell_type": "code",
      "source": [
        "try:\n",
        "    print('I am try block')\n",
        "    print(abc)\n",
        "except Exception as e:\n",
        "    print('I am except block\\n',e)\n",
        "else:\n",
        "    print('I am else block')\n",
        "finally:\n",
        "    print('I am finally block')"
      ],
      "metadata": {
        "colab": {
          "base_uri": "https://localhost:8080/"
        },
        "id": "1aYJlOnT9ITr",
        "outputId": "42704348-e80c-44ef-b84f-ee7a7d14b29d"
      },
      "execution_count": null,
      "outputs": [
        {
          "output_type": "stream",
          "name": "stdout",
          "text": [
            "I am try block\n",
            "I am except block\n",
            " name 'abc' is not defined\n",
            "I am finally block\n"
          ]
        }
      ]
    },
    {
      "cell_type": "code",
      "source": [
        "try:\n",
        "    print(10/0)\n",
        "except Exception as e:\n",
        "    print('I am except block\\n',e)\n",
        "else:\n",
        "    print('I am else block')\n",
        "finally:\n",
        "    print('I am finally block')"
      ],
      "metadata": {
        "colab": {
          "base_uri": "https://localhost:8080/"
        },
        "id": "6c-dxutg_KCL",
        "outputId": "e27a8729-7ac8-4958-acc9-4b9f56a93fb8"
      },
      "execution_count": null,
      "outputs": [
        {
          "output_type": "stream",
          "name": "stdout",
          "text": [
            "I am except block\n",
            " division by zero\n",
            "I am finally block\n"
          ]
        }
      ]
    },
    {
      "cell_type": "code",
      "source": [
        "try:\n",
        "    x = 3\n",
        "    print('i am try',x)\n",
        "except:\n",
        "    x = 3+4\n",
        "    print('i am except',x)\n",
        "else:\n",
        "    x = 3+5\n",
        "    print('i am else',x)\n",
        "finally:\n",
        "    print('i am finally')"
      ],
      "metadata": {
        "colab": {
          "base_uri": "https://localhost:8080/"
        },
        "id": "Zq12ZXO8Aktp",
        "outputId": "7df6b0d3-2ad1-4106-9078-dc4c753eacbc"
      },
      "execution_count": null,
      "outputs": [
        {
          "output_type": "stream",
          "name": "stdout",
          "text": [
            "i am try 3\n",
            "i am else 8\n",
            "i am finally\n"
          ]
        }
      ]
    },
    {
      "cell_type": "code",
      "source": [
        "try:\n",
        "    x = 3\n",
        "    print('i am try',y)\n",
        "except:\n",
        "    x = 3+4\n",
        "    print('i am except',x)\n",
        "else:\n",
        "    x = 3+5\n",
        "    print('i am else',x)\n",
        "finally:\n",
        "    print('i am finally')"
      ],
      "metadata": {
        "colab": {
          "base_uri": "https://localhost:8080/"
        },
        "id": "bVB75PkrA3Em",
        "outputId": "c2d8c18b-5859-4e06-eedc-6c12442fc404"
      },
      "execution_count": null,
      "outputs": [
        {
          "output_type": "stream",
          "name": "stdout",
          "text": [
            "i am except 7\n",
            "i am finally\n"
          ]
        }
      ]
    },
    {
      "cell_type": "code",
      "source": [
        "try:\n",
        "    x = 3\n",
        "    print('i am try',y)\n",
        "except Exception as  e :\n",
        "    x = x+3\n",
        "    print('i am except',x,e)\n",
        "else:\n",
        "    x = x+5\n",
        "    print('i am else',x)\n",
        "finally:\n",
        "    print('i am finally',x+10)"
      ],
      "metadata": {
        "colab": {
          "base_uri": "https://localhost:8080/"
        },
        "id": "PSJd5K5OA5H9",
        "outputId": "9e275913-22f0-499e-8939-a7b5c1f37101"
      },
      "execution_count": null,
      "outputs": [
        {
          "output_type": "stream",
          "name": "stdout",
          "text": [
            "i am except 6 name 'y' is not defined\n",
            "i am finally 16\n"
          ]
        }
      ]
    },
    {
      "cell_type": "code",
      "source": [
        "try:\n",
        "    print('i am try',y)\n",
        "except Exception as  e :\n",
        "    x = x+3\n",
        "    print('i am except',x,e)\n",
        "else:\n",
        "    x = x+5\n",
        "    print('i am else',x)\n",
        "finally:\n",
        "    print('i am finally',x+10)"
      ],
      "metadata": {
        "id": "v4j8cJaKByUH"
      },
      "execution_count": null,
      "outputs": []
    },
    {
      "cell_type": "code",
      "source": [
        "try:\n",
        "    import math\n",
        "    print('i am try')\n",
        "    # a = '89'+9\n",
        "    # print(avc)\n",
        "    # print(10/0)\n",
        "    print(math.sqrt(-10))\n",
        "except TypeError as  t :\n",
        "    print('i am datatype error',t)\n",
        "except ZeroDivisionError as  z :\n",
        "    print('i am zero error save me',z)\n",
        "except NameError as  n :\n",
        "    print('i am name error save me',n)\n",
        "except SyntaxError as  s :\n",
        "    print('i am syntax error save me',s)\n",
        "except ValueError as  v :\n",
        "    print('i am value error save me',v)\n",
        "except Exception as  e :\n",
        "    print('someother error',e)\n",
        "else:\n",
        "    print('i am else')\n",
        "finally:\n",
        "    print('i am finally')"
      ],
      "metadata": {
        "colab": {
          "base_uri": "https://localhost:8080/"
        },
        "id": "wjlvIXM2CvI4",
        "outputId": "d7c81a5d-4fbf-4d1f-eb15-5597d1cef308"
      },
      "execution_count": null,
      "outputs": [
        {
          "output_type": "stream",
          "name": "stdout",
          "text": [
            "i am try\n",
            "i am value error save me math domain error\n",
            "i am finally\n"
          ]
        }
      ]
    }
  ]
}