{
  "nbformat": 4,
  "nbformat_minor": 0,
  "metadata": {
    "colab": {
      "provenance": [],
      "include_colab_link": true
    },
    "kernelspec": {
      "name": "python3",
      "display_name": "Python 3"
    },
    "language_info": {
      "name": "python"
    }
  },
  "cells": [
    {
      "cell_type": "markdown",
      "metadata": {
        "id": "view-in-github",
        "colab_type": "text"
      },
      "source": [
        "<a href=\"https://colab.research.google.com/github/SHAZAN01/Python/blob/main/DA_23_Python_7.ipynb\" target=\"_parent\"><img src=\"https://colab.research.google.com/assets/colab-badge.svg\" alt=\"Open In Colab\"/></a>"
      ]
    },
    {
      "cell_type": "markdown",
      "source": [
        "###Computational Complexity of the Algorithms:\n",
        "\n",
        "1. Time complexity\n",
        "2. Space complexity"
      ],
      "metadata": {
        "id": "OfUvV4hE9m2w"
      }
    },
    {
      "cell_type": "markdown",
      "source": [
        "####Big \"O\" Notation"
      ],
      "metadata": {
        "id": "uJZIFtb9FQVT"
      }
    },
    {
      "cell_type": "markdown",
      "source": [
        "###Constant Time Complexity - O(C)"
      ],
      "metadata": {
        "id": "KxMh-RQmFXkN"
      }
    },
    {
      "cell_type": "code",
      "source": [
        "n = 3\n",
        "print(n*3)"
      ],
      "metadata": {
        "colab": {
          "base_uri": "https://localhost:8080/"
        },
        "id": "zSME8PZXPJuJ",
        "outputId": "bdb5adb4-dd4f-4e22-9e76-c72252be0c43"
      },
      "execution_count": null,
      "outputs": [
        {
          "output_type": "stream",
          "name": "stdout",
          "text": [
            "9\n"
          ]
        }
      ]
    },
    {
      "cell_type": "code",
      "source": [
        "n = 3\n",
        "if 1:\n",
        "    print(n*3)"
      ],
      "metadata": {
        "id": "3RwD3AVsPSRn"
      },
      "execution_count": null,
      "outputs": []
    },
    {
      "cell_type": "markdown",
      "source": [
        "Linear Time complexity (O(n))"
      ],
      "metadata": {
        "id": "R2EUwpUUGvIb"
      }
    },
    {
      "cell_type": "code",
      "source": [
        "a = [10,2,3,4,5,6,7,8]\n",
        "for i in a:\n",
        "  print(i)"
      ],
      "metadata": {
        "id": "mFnXvS_JXPbr"
      },
      "execution_count": null,
      "outputs": []
    },
    {
      "cell_type": "markdown",
      "source": [
        "Quadratic time complexity  (O(n2))"
      ],
      "metadata": {
        "id": "rVdxeORLXZK7"
      }
    },
    {
      "cell_type": "code",
      "source": [
        "a = [1,2,3,4,5]\n",
        "for i in a:\n",
        "  for j in a:\n",
        "    print(i,j)"
      ],
      "metadata": {
        "id": "Ws3IpvBDXXe-"
      },
      "execution_count": null,
      "outputs": []
    },
    {
      "cell_type": "markdown",
      "source": [
        "Cubic Time Complexity"
      ],
      "metadata": {
        "id": "_JSSX1yxPIyc"
      }
    },
    {
      "cell_type": "code",
      "source": [
        "a = [1,2,3]\n",
        "for i in a:\n",
        "  for j in a:\n",
        "    for k in a:\n",
        "      print(i,j,k)\n"
      ],
      "metadata": {
        "id": "mm6EIvglLFmh"
      },
      "execution_count": null,
      "outputs": []
    },
    {
      "cell_type": "markdown",
      "source": [
        "Searching techniques"
      ],
      "metadata": {
        "id": "Z5CTe4E-Xk-k"
      }
    },
    {
      "cell_type": "code",
      "source": [],
      "metadata": {
        "id": "QhW1y7zRXkln"
      },
      "execution_count": null,
      "outputs": []
    },
    {
      "cell_type": "markdown",
      "source": [
        "Linear Search"
      ],
      "metadata": {
        "id": "j9rk9p3zUQ3y"
      }
    },
    {
      "cell_type": "code",
      "source": [
        "a = [1,32,632,43,76,90,234,8,67,9009]\n",
        "# 3 in a\n",
        "def linear_search(n,l):\n",
        "  count=0\n",
        "  for i in l:\n",
        "    for i in l:\n",
        "      if i==n:\n",
        "        return count\n",
        "      count+=1\n",
        "\n",
        "print(linear_search(67,a))"
      ],
      "metadata": {
        "colab": {
          "base_uri": "https://localhost:8080/"
        },
        "id": "9wcdC6ejLFi2",
        "outputId": "418b28f3-73c6-4120-f76e-37a52d43b382"
      },
      "execution_count": null,
      "outputs": [
        {
          "output_type": "stream",
          "name": "stdout",
          "text": [
            "8\n"
          ]
        }
      ]
    },
    {
      "cell_type": "code",
      "source": [
        "a = [1,32,632,43,76,90,234,8,67,9009]\n",
        "# 3 in a\n",
        "def linear_search(n,l):\n",
        "  exist=False\n",
        "  for i in l:\n",
        "    if i==n:\n",
        "      exist = True\n",
        "      break\n",
        "  if (exist):\n",
        "     return ('exist')\n",
        "  else:\n",
        "    return ('not existing')\n",
        "\n",
        "print(linear_search(234,a))"
      ],
      "metadata": {
        "colab": {
          "base_uri": "https://localhost:8080/"
        },
        "id": "sKE3HpOZXjHX",
        "outputId": "3cafb660-88ac-4d60-9f52-435b0405e427"
      },
      "execution_count": null,
      "outputs": [
        {
          "output_type": "stream",
          "name": "stdout",
          "text": [
            "exist\n"
          ]
        }
      ]
    },
    {
      "cell_type": "code",
      "source": [
        "a = [1,2,3,4,5,6,7,8,9,10,11,12,13,14]\n",
        "def Binary_search(a,n):\n",
        "\n",
        "  start_ind = 0 #\n",
        "  end_ind = len(a)-1 #13\n",
        "  while start_ind<=end_ind: #0<=13; 7<=13;7<=9\n",
        "    mid_ind = (start_ind+end_ind)//2 #6; 7+13//2; 10; 7+9/2=8\n",
        "    if n==a[mid_ind]: #9==7;F; 9==11;F; 9==9\n",
        "      return  mid_ind;\n",
        "    elif n>a[mid_ind]: #9>7; 9>11;F\n",
        "      start_ind = mid_ind+1 #S=6+1;7\n",
        "    else:\n",
        "      end_ind = mid_ind-1 #; 10-1;9\n",
        "  else:\n",
        "    return 'not available'\n",
        "\n",
        "Binary_search(a,13)"
      ],
      "metadata": {
        "id": "nX2noWdbYs8D"
      },
      "execution_count": null,
      "outputs": []
    },
    {
      "cell_type": "code",
      "source": [
        "a = [1,2,3,4,5,6]\n",
        "def Binary_search(a,start_ind,end_ind,n):\n",
        "\n",
        "  mid_ind = (start_ind+end_ind)//2 #2, 3+5/2=4,4,5,5,6\n",
        "  if n not in a:\n",
        "    return 'not available'\n",
        "  elif n==a[mid_ind]: #\n",
        "      return  mid_ind;\n",
        "  elif n>a[mid_ind]: #32>6\n",
        "      start_ind = mid_ind+1 #3,4,5,6,7\n",
        "      return Binary_search(a,start_ind,end_ind,n)#a,7,5,32\n",
        "  else:\n",
        "      end_ind = mid_ind-1\n",
        "      return Binary_search(a,start_ind,end_ind,n)\n",
        "Binary_search(a,0,len(a)-1,32)"
      ],
      "metadata": {
        "id": "50Zx3a_7ZXV1"
      },
      "execution_count": null,
      "outputs": []
    },
    {
      "cell_type": "code",
      "source": [
        "a = [13,21,7,16,5,23,76,11]\n",
        "# min(a)\n",
        "max(a)"
      ],
      "metadata": {
        "colab": {
          "base_uri": "https://localhost:8080/"
        },
        "id": "_MXjGbpSfWhh",
        "outputId": "5d881f0b-086d-43d5-9eaf-8da47093b88f"
      },
      "execution_count": null,
      "outputs": [
        {
          "output_type": "execute_result",
          "data": {
            "text/plain": [
              "76"
            ]
          },
          "metadata": {},
          "execution_count": 5
        }
      ]
    },
    {
      "cell_type": "code",
      "source": [
        "a = [13,21,7,16,5,23,76,11]\n",
        "def minim(a):\n",
        "    mini = a[0]\n",
        "    for i in a:\n",
        "        if i < mini  : #13<13;21<13;7<13; 16<7;  5<7; 23<5,76<5,11<5\n",
        "            mini = i\n",
        "    return mini\n",
        "minim(a)"
      ],
      "metadata": {
        "colab": {
          "base_uri": "https://localhost:8080/"
        },
        "id": "obNRHTeqp063",
        "outputId": "c06873b2-5a29-4202-93e7-3db516fbac38"
      },
      "execution_count": null,
      "outputs": [
        {
          "output_type": "execute_result",
          "data": {
            "text/plain": [
              "5"
            ]
          },
          "metadata": {},
          "execution_count": 10
        }
      ]
    },
    {
      "cell_type": "code",
      "source": [
        "a = [13,21,7,16,5,23,76,11]\n",
        "def maxim(a):\n",
        "    maxi = a[0]\n",
        "    for i in a:\n",
        "        if i > maxi  : #13<13;21<13;7<13; 16<7;  5<7; 23<5,76<5,11<5\n",
        "            maxi = i\n",
        "    return maxi\n",
        "maxim(a)"
      ],
      "metadata": {
        "colab": {
          "base_uri": "https://localhost:8080/"
        },
        "id": "PXZM4Uekq6bc",
        "outputId": "bef8fdce-448f-411f-8483-1383b9a70b04"
      },
      "execution_count": null,
      "outputs": [
        {
          "output_type": "execute_result",
          "data": {
            "text/plain": [
              "76"
            ]
          },
          "metadata": {},
          "execution_count": 9
        }
      ]
    },
    {
      "cell_type": "markdown",
      "source": [
        "####Selection Sort:\n",
        "* It is an in-place comparison-based algorithm. It sorts an array by repeatedly finding the minimum element (considering ascending order) from unsorted part."
      ],
      "metadata": {
        "id": "v1YOUFpAreDp"
      }
    },
    {
      "cell_type": "code",
      "source": [
        "a = [113,16,67,89,9876,34]\n",
        "print('Before Sorting: ',a)\n",
        "for i in range(len(a)):\n",
        "  min_ind = a.index(min(a[i:]))\n",
        "  a[i], a[min_ind] = a[min_ind], a[i]\n",
        "print('After Sorting : ',a)\n"
      ],
      "metadata": {
        "id": "gIN0rKGJrgkR",
        "colab": {
          "base_uri": "https://localhost:8080/"
        },
        "outputId": "fa8143fb-f9c2-4e64-8095-7f1d69ebcf5c"
      },
      "execution_count": null,
      "outputs": [
        {
          "output_type": "stream",
          "name": "stdout",
          "text": [
            "Before Sorting:  [3, 6, 67, 89, 9876, 34]\n",
            "After Sorting :  [3, 6, 34, 67, 89, 9876]\n"
          ]
        }
      ]
    },
    {
      "cell_type": "code",
      "source": [
        "a = [113,16,67,113,89,9876,16,34]\n",
        "print('Before Sorting: ',a)\n",
        "for i in range(len(a)):\n",
        "  min_ind = a.index(min(a[i:]))\n",
        "  a[i], a[min_ind] = a[min_ind], a[i]\n",
        "print('After Sorting : ',a)\n"
      ],
      "metadata": {
        "colab": {
          "base_uri": "https://localhost:8080/"
        },
        "id": "Zv3X-lsHUXtc",
        "outputId": "65e45897-f756-41c3-f86e-633f14eae7ef"
      },
      "execution_count": null,
      "outputs": [
        {
          "output_type": "stream",
          "name": "stdout",
          "text": [
            "Before Sorting:  [113, 16, 67, 113, 89, 9876, 16, 34]\n",
            "After Sorting :  [113, 67, 113, 89, 9876, 16, 16, 34]\n"
          ]
        }
      ]
    },
    {
      "cell_type": "code",
      "source": [
        "a = [113,16,67,113,89,9876,16,34]\n",
        "print('Before Sorting: ',a)\n",
        "for i in range(len(a)):\n",
        "  min_ind = a.index(min(a[i:]),i)\n",
        "  # a[i:] to calculate minimum from that iteration\n",
        "#   ,i in index method is to calculate index from that iteration\n",
        "#   print(min_ind)\n",
        "  a[i], a[min_ind] = a[min_ind], a[i]\n",
        "#   print('i = ',i,a[i],a[min_ind], a)\n",
        "\n",
        "print('After Sorting : ',a)\n"
      ],
      "metadata": {
        "colab": {
          "base_uri": "https://localhost:8080/"
        },
        "id": "XgJr3oBFR9zp",
        "outputId": "2c64268e-cdd2-4e98-a6b0-9005fb9fe06b"
      },
      "execution_count": null,
      "outputs": [
        {
          "output_type": "stream",
          "name": "stdout",
          "text": [
            "Before Sorting:  [113, 16, 67, 113, 89, 9876, 16, 34]\n",
            "After Sorting :  [16, 16, 34, 67, 89, 113, 113, 9876]\n"
          ]
        }
      ]
    },
    {
      "cell_type": "code",
      "source": [
        "a = [3,6,8,4,3,1,2,6]\n",
        "a.index(3,1)"
      ],
      "metadata": {
        "colab": {
          "base_uri": "https://localhost:8080/"
        },
        "id": "DCgGNMiGa3Rw",
        "outputId": "539b2ad8-4d36-4004-facc-2b94519e3ab2"
      },
      "execution_count": null,
      "outputs": [
        {
          "output_type": "execute_result",
          "data": {
            "text/plain": [
              "4"
            ]
          },
          "metadata": {},
          "execution_count": 19
        }
      ]
    },
    {
      "cell_type": "markdown",
      "metadata": {
        "id": "xkgoBMoFoz24"
      },
      "source": [
        "#### Bubble Sort\n",
        "\n",
        "* It is also called as **Sinking Sort**.\n",
        "* Bubbles in liquid are essentially air pockets and air is less dense than water. So therefore the **bigger bubble** contains more air so will rise alot quicker due to **buoyant force**."
      ]
    },
    {
      "cell_type": "code",
      "source": [
        "a = [8,23,68,8,12] #Input unsorted list\n",
        "print('Before Sorting: ',a)\n",
        "n = len(a)\n",
        "for i in range(n-1):\n",
        "  for j in range(n-i-1):\n",
        "    if a[j] > a[j+1] :\n",
        "        a[j], a[j+1] = a[j+1], a[j] #swap\n",
        "print(a)"
      ],
      "metadata": {
        "colab": {
          "base_uri": "https://localhost:8080/"
        },
        "id": "cr55mlVydk1V",
        "outputId": "87623230-c636-44c2-ea45-3bc1f6eb010e"
      },
      "execution_count": null,
      "outputs": [
        {
          "output_type": "stream",
          "name": "stdout",
          "text": [
            "Before Sorting:  [8, 23, 68, 8, 12]\n",
            "[8, 8, 12, 23, 68]\n"
          ]
        }
      ]
    },
    {
      "cell_type": "markdown",
      "metadata": {
        "id": "hSS0VwXwCg8e"
      },
      "source": [
        "#### Quick Sort\n",
        "\n",
        "* It is also called as **Partition Exchange Sort** or **Divide and Conquer algorithm**.\n",
        "* Developed by  **Tony Hoare** in 1961.\n",
        "* Faster than Merge Sort and Heap Sort."
      ]
    },
    {
      "cell_type": "code",
      "source": [
        "def quick_sort(a):\n",
        "    if len(a) <= 1:\n",
        "        return a\n",
        "\n",
        "    pivot = a[0] #first element as pivot\n",
        "    a = a[1:] #rest all elements\n",
        "\n",
        "    lower = []\n",
        "    greater = []\n",
        "    for i in a:\n",
        "        if i <= pivot: # for Descending order make  (i >= pivot)\n",
        "            lower.append(i)\n",
        "        else:\n",
        "            greater.append(i)\n",
        "\n",
        "    sorted_list = quick_sort(lower) + [pivot] + quick_sort(greater)\n",
        "    return sorted_list\n",
        "\n",
        "a = [2,4,45,6,2,6776,8,6,89]\n",
        "quick_sort(a)"
      ],
      "metadata": {
        "id": "j4ogl8BHgKaR",
        "colab": {
          "base_uri": "https://localhost:8080/"
        },
        "outputId": "231700e2-a539-4ef1-e7ac-db8705d6d829"
      },
      "execution_count": null,
      "outputs": [
        {
          "output_type": "execute_result",
          "data": {
            "text/plain": [
              "[2, 2, 4, 6, 6, 8, 45, 89, 6776]"
            ]
          },
          "metadata": {},
          "execution_count": 3
        }
      ]
    },
    {
      "cell_type": "markdown",
      "metadata": {
        "id": "bLa2xD3IDVv2"
      },
      "source": [
        "#### Merge Sort\n",
        "\n",
        "* It is also called as **Divide and Conquer algorithm**.\n",
        "* Developed by  **John von Neumann** in 1945.\n",
        "* It is an efficient, general-purpose, comparison-based sorting algorithm."
      ]
    },
    {
      "cell_type": "markdown",
      "metadata": {
        "id": "_1dQaj5d503J"
      },
      "source": [
        "Divide and Conquer:\n",
        "\n",
        "**Divide:** Find the midpoint of the list and divide into sublists.\n",
        "\n",
        "**Conquer:** Recursively sort the sublists created in sublists.\n",
        "\n",
        "**Combine:** Merge the sorted sublists created in the previous steps.\n"
      ]
    },
    {
      "cell_type": "code",
      "source": [
        "l = int(input('Number of elements: '))\n",
        "a = [int(input(f'Element {i} : ')) for i in range(l)]\n",
        "print('Before Sorting:',a)\n",
        "\n",
        "def MergeSort(a):\n",
        "  # Condition for dividing the list\n",
        "  if len(a)>1:\n",
        "    mid = len(a)//2\n",
        "    left = a[:mid]\n",
        "    right = a[mid:]\n",
        "    print(left,right)\n",
        "    MergeSort(left)\n",
        "    MergeSort(right)\n",
        "    i=j=k=0\n",
        "    # Condition for merging the list\n",
        "    while (i<len(left)) and (j<len(right)):\n",
        "      if (left[i] < right[j]): # For descending order make (left[i] > right[j])\n",
        "        a[k] = left[i]\n",
        "        i+=1\n",
        "        k+=1\n",
        "      else:\n",
        "        a[k] = right[j]\n",
        "        j+=1\n",
        "        k+=1\n",
        "    # Condition to check whether any values are left in the left sublist\n",
        "    while (i<len(left)):\n",
        "      a[k] = left[i]\n",
        "      i+=1\n",
        "      k+=1\n",
        "    # Condition to check whether any values are left in the right sublist\n",
        "    while (j<len(right)):\n",
        "      a[k] = right[j]\n",
        "      j+=1\n",
        "      k+=1\n",
        "\n",
        "MergeSort(a)\n",
        "print('After Sorting: ',a)"
      ],
      "metadata": {
        "id": "LppZeGkwdh2h",
        "colab": {
          "base_uri": "https://localhost:8080/"
        },
        "outputId": "b18974de-9262-475f-bf0d-2b5c0e2fee46"
      },
      "execution_count": null,
      "outputs": [
        {
          "output_type": "stream",
          "name": "stdout",
          "text": [
            "Number of elements: 8\n",
            "Element 0 : 13\n",
            "Element 1 : 14\n",
            "Element 2 : 9\n",
            "Element 3 : 21\n",
            "Element 4 : 7\n",
            "Element 5 : 52\n",
            "Element 6 : 34\n",
            "Element 7 : 16\n",
            "Before Sorting: [13, 14, 9, 21, 7, 52, 34, 16]\n",
            "[13, 14, 9, 21] [7, 52, 34, 16]\n",
            "[13, 14] [9, 21]\n",
            "[13] [14]\n",
            "[9] [21]\n",
            "[7, 52] [34, 16]\n",
            "[7] [52]\n",
            "[34] [16]\n",
            "After Sorting:  [7, 9, 13, 14, 16, 21, 34, 52]\n"
          ]
        }
      ]
    },
    {
      "cell_type": "code",
      "source": [],
      "metadata": {
        "id": "ZyscoVWrdga4"
      },
      "execution_count": null,
      "outputs": []
    }
  ]
}