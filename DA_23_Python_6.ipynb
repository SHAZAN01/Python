{
  "nbformat": 4,
  "nbformat_minor": 0,
  "metadata": {
    "colab": {
      "provenance": [],
      "include_colab_link": true
    },
    "kernelspec": {
      "name": "python3",
      "display_name": "Python 3"
    },
    "language_info": {
      "name": "python"
    }
  },
  "cells": [
    {
      "cell_type": "markdown",
      "metadata": {
        "id": "view-in-github",
        "colab_type": "text"
      },
      "source": [
        "<a href=\"https://colab.research.google.com/github/SHAZAN01/Python/blob/main/DA_23_Python_6.ipynb\" target=\"_parent\"><img src=\"https://colab.research.google.com/assets/colab-badge.svg\" alt=\"Open In Colab\"/></a>"
      ]
    },
    {
      "cell_type": "markdown",
      "source": [
        "List Comprehension"
      ],
      "metadata": {
        "id": "xl4hHgyohi7f"
      }
    },
    {
      "cell_type": "code",
      "execution_count": null,
      "metadata": {
        "id": "ntg8y87AhcgR"
      },
      "outputs": [],
      "source": [
        "# [Expression (For loop)]\n",
        "# a = []\n",
        "# for i in range(11):\n",
        "#     a.append(i)\n",
        "# print(a)\n",
        "\n",
        "[ print(i)  for i in range(10)]"
      ]
    },
    {
      "cell_type": "code",
      "source": [
        "[ i  for i in range(50,101,2)]\n",
        "\n",
        "# [(expression) (for loop)  (if condition)]\n"
      ],
      "metadata": {
        "id": "89KxJLXEhwUi",
        "colab": {
          "base_uri": "https://localhost:8080/"
        },
        "outputId": "d3d2af08-c014-4a1f-e77f-5017a63ca7b2"
      },
      "execution_count": null,
      "outputs": [
        {
          "output_type": "execute_result",
          "data": {
            "text/plain": [
              "[50,\n",
              " 52,\n",
              " 54,\n",
              " 56,\n",
              " 58,\n",
              " 60,\n",
              " 62,\n",
              " 64,\n",
              " 66,\n",
              " 68,\n",
              " 70,\n",
              " 72,\n",
              " 74,\n",
              " 76,\n",
              " 78,\n",
              " 80,\n",
              " 82,\n",
              " 84,\n",
              " 86,\n",
              " 88,\n",
              " 90,\n",
              " 92,\n",
              " 94,\n",
              " 96,\n",
              " 98,\n",
              " 100]"
            ]
          },
          "metadata": {},
          "execution_count": 26
        }
      ]
    },
    {
      "cell_type": "code",
      "source": [
        "# even - dog\n",
        "# odd - cat\n",
        "# [(expression) (if condition) (else condition) (for loop)]\n",
        "[ 'dog' if ((i%2)==0) else 'cat' for i in range(10)]"
      ],
      "metadata": {
        "colab": {
          "base_uri": "https://localhost:8080/"
        },
        "id": "nf3V-OCohwRF",
        "outputId": "e51f12c8-a21f-4381-a8c2-d60e9e7d911a"
      },
      "execution_count": null,
      "outputs": [
        {
          "output_type": "execute_result",
          "data": {
            "text/plain": [
              "['dog', 'cat', 'dog', 'cat', 'dog', 'cat', 'dog', 'cat', 'dog', 'cat']"
            ]
          },
          "metadata": {},
          "execution_count": 14
        }
      ]
    },
    {
      "cell_type": "code",
      "source": [
        " [i**2 for i in range(1,10)]"
      ],
      "metadata": {
        "colab": {
          "base_uri": "https://localhost:8080/"
        },
        "id": "Ika7dSMyhwNY",
        "outputId": "bd5a476e-e5b2-45d6-eeff-346139abb6d2"
      },
      "execution_count": null,
      "outputs": [
        {
          "output_type": "execute_result",
          "data": {
            "text/plain": [
              "[1, 4, 9, 16, 25, 36, 49, 64, 81]"
            ]
          },
          "metadata": {},
          "execution_count": 17
        }
      ]
    },
    {
      "cell_type": "code",
      "source": [
        "# multiples of both 4 and 7 between 1 to 100\n",
        "# [(expression) (for loop) (if condition) (if condition)]\n",
        "# a = []\n",
        "# for i in range(1,100):\n",
        "#     if (i%4)==0 :\n",
        "#          if (i%7)==0 :\n",
        "#              a.append(i)\n",
        "\n",
        "# print(a)\n",
        "\n",
        "# a = []\n",
        "# for i in range(1,100):\n",
        "#     if ((i%4)==0) and ((i%7)==0) :\n",
        "#              a.append(i)\n",
        "\n",
        "# print(a)\n",
        "\n",
        "[i for i in range(1,101) if ((i%4)==0) if ((i%7)==0)]"
      ],
      "metadata": {
        "colab": {
          "base_uri": "https://localhost:8080/"
        },
        "id": "ie7W1NQxqhLH",
        "outputId": "0137061b-3e62-40ff-a009-437cb631499b"
      },
      "execution_count": null,
      "outputs": [
        {
          "output_type": "execute_result",
          "data": {
            "text/plain": [
              "[28, 56, 84]"
            ]
          },
          "metadata": {},
          "execution_count": 20
        }
      ]
    },
    {
      "cell_type": "code",
      "source": [
        "# a = []\n",
        "# for i in range(1,4):\n",
        "#     for j in range(4,7):\n",
        "#         print(i,j)\n",
        "\n",
        "# [(expression) (outer for loop) (inner for loop)]\n",
        "[(i,j) for i in range(1,4) for j in range(4,7) ]"
      ],
      "metadata": {
        "colab": {
          "base_uri": "https://localhost:8080/"
        },
        "id": "lvvDT-RMsVAw",
        "outputId": "c2833204-0c0c-4fe1-b471-8d2950c524f5"
      },
      "execution_count": null,
      "outputs": [
        {
          "output_type": "execute_result",
          "data": {
            "text/plain": [
              "[(1, 4), (1, 5), (1, 6), (2, 4), (2, 5), (2, 6), (3, 4), (3, 5), (3, 6)]"
            ]
          },
          "metadata": {},
          "execution_count": 23
        }
      ]
    },
    {
      "cell_type": "code",
      "source": [
        "[[i,j] for i in range(1,4) for j in range(4,7) ]"
      ],
      "metadata": {
        "colab": {
          "base_uri": "https://localhost:8080/"
        },
        "id": "Ox0-nuuLstRz",
        "outputId": "1936454e-bc9e-4881-c122-adf7c2b6f10e"
      },
      "execution_count": null,
      "outputs": [
        {
          "output_type": "execute_result",
          "data": {
            "text/plain": [
              "[[1, 4], [1, 5], [1, 6], [2, 4], [2, 5], [2, 6], [3, 4], [3, 5], [3, 6]]"
            ]
          },
          "metadata": {},
          "execution_count": 24
        }
      ]
    },
    {
      "cell_type": "code",
      "source": [
        "[[i for i in range(1,4)], [j for j in range(4,7)] ]"
      ],
      "metadata": {
        "colab": {
          "base_uri": "https://localhost:8080/"
        },
        "id": "EizmAc_C0L6R",
        "outputId": "6e1ac5b7-a6e9-4f8d-d2c7-24942f0dcb59"
      },
      "execution_count": null,
      "outputs": [
        {
          "output_type": "execute_result",
          "data": {
            "text/plain": [
              "[[1, 2, 3], [4, 5, 6]]"
            ]
          },
          "metadata": {},
          "execution_count": 25
        }
      ]
    },
    {
      "cell_type": "markdown",
      "source": [
        "Take a list -\n",
        "[1,2,2,3,3,4]\n",
        "\n",
        "i) Find if the duplicates exist or not and count of number of duplicates?\n",
        "\n",
        "Ex: [1,2,2,3,3,4]\n",
        "\n",
        "ii) What are the duplicates?\n",
        "\n",
        "Ex: [2,3]\n",
        "\n",
        "iii) remove duplicates (make them unique)\n",
        "\n",
        "Ex: [1,2,3,4]\n",
        "\n",
        "iv) Remove duplicated elements\n",
        "\n",
        "Ex:  [1,4]\n",
        "\n",
        "v) Check whether given list elements are in ascending order or descending order or random?\n",
        "\n",
        "     v)i) With duplicates\n",
        "     v)ii) Without duplicates"
      ],
      "metadata": {
        "id": "WqvwnsSz21kG"
      }
    },
    {
      "cell_type": "markdown",
      "source": [
        "Matrix addition\n",
        "\n",
        "Matrix Subtraction\n",
        "\n",
        "Matrix Multiplication\n",
        "\n",
        "Transpose the given matrix\n",
        "\n",
        "Diagnol matrix generation\n",
        "\n",
        "Determinant of the matrix"
      ],
      "metadata": {
        "id": "dgbGST5g7qh3"
      }
    },
    {
      "cell_type": "code",
      "source": [
        "[ int(input(f'Element {i}: ')) for i in range(int(input('number of elements: ')))]"
      ],
      "metadata": {
        "id": "FZS5LfHG0hQQ",
        "colab": {
          "base_uri": "https://localhost:8080/"
        },
        "outputId": "1b13b6bd-7c3a-4ed3-e3c0-e5f0a9c40c31"
      },
      "execution_count": null,
      "outputs": [
        {
          "name": "stdout",
          "output_type": "stream",
          "text": [
            "number of elements: 3\n",
            "Element 0: 1\n",
            "Element 1: 2\n",
            "Element 2: 3\n"
          ]
        },
        {
          "output_type": "execute_result",
          "data": {
            "text/plain": [
              "[1, 2, 3]"
            ]
          },
          "metadata": {},
          "execution_count": 31
        }
      ]
    },
    {
      "cell_type": "code",
      "source": [
        "# list(i for i in range(10))\n",
        "\n",
        "# tuple(i for i in range(10))\n",
        "\n",
        "# set(i for i in range(10))\n",
        "{i for i in range(10)}\n",
        "\n",
        "# {i:i for i in range(10)}\n"
      ],
      "metadata": {
        "colab": {
          "base_uri": "https://localhost:8080/"
        },
        "id": "SWb_2FQqD7K7",
        "outputId": "09a7e2cf-c161-4ee7-df8f-e5422c1a5fc4"
      },
      "execution_count": null,
      "outputs": [
        {
          "output_type": "execute_result",
          "data": {
            "text/plain": [
              "{0, 1, 2, 3, 4, 5, 6, 7, 8, 9}"
            ]
          },
          "metadata": {},
          "execution_count": 39
        }
      ]
    },
    {
      "cell_type": "code",
      "source": [
        "a = [[1,2],[3,4]]\n",
        "b = [[5,6],[7,8]]\n",
        "c = [[0,0],[0,0]]\n",
        "\n",
        "for i in range(len(a)): # i = 0,\n",
        "    for j in range(len(a[i])): # j = a[0] = [1,2][j]\n",
        "        # print(a[i][j] + b[i][j])\n",
        "        c[i][j] = a[i][j] + b[i][j]\n",
        "print(c)"
      ],
      "metadata": {
        "colab": {
          "base_uri": "https://localhost:8080/"
        },
        "id": "naTWO-pPElg9",
        "outputId": "0ea50e81-e654-41de-a4e0-3358e224162c"
      },
      "execution_count": null,
      "outputs": [
        {
          "output_type": "stream",
          "name": "stdout",
          "text": [
            "[[6, 8], [10, 12]]\n"
          ]
        }
      ]
    },
    {
      "cell_type": "code",
      "source": [
        "c = [[0,0],[0,0]]\n",
        "c[0][0]=1\n",
        "c"
      ],
      "metadata": {
        "colab": {
          "base_uri": "https://localhost:8080/"
        },
        "id": "7nWoAeHzMC1U",
        "outputId": "d95bc0da-c402-459b-e3cf-1ea41ade3687"
      },
      "execution_count": null,
      "outputs": [
        {
          "output_type": "execute_result",
          "data": {
            "text/plain": [
              "[[1, 0], [0, 0]]"
            ]
          },
          "metadata": {},
          "execution_count": 53
        }
      ]
    },
    {
      "cell_type": "code",
      "source": [
        "c = []\n",
        "c.insert(0,1)\n",
        "c"
      ],
      "metadata": {
        "colab": {
          "base_uri": "https://localhost:8080/"
        },
        "id": "ppfAkQpcMWPC",
        "outputId": "6b088d87-da36-4494-9d73-c402ff77d3e1"
      },
      "execution_count": null,
      "outputs": [
        {
          "output_type": "execute_result",
          "data": {
            "text/plain": [
              "[1]"
            ]
          },
          "metadata": {},
          "execution_count": 52
        }
      ]
    },
    {
      "cell_type": "code",
      "source": [
        "a = [[1,2,3,4],[3,4,5,6],[1,2,3,4],[3,4,5,6] ] #2x4\n",
        "b = [[1,4],[2,5],[3,6],[4,7]]  #4x2\n",
        "out = []\n",
        "# for i in range(len(a)): #2\n",
        "#     out.append([])\n",
        "[ out.append([])for i in range(len(a)) ]\n",
        "\n",
        "# for i in range(len(a)): #2\n",
        "#     for j in range(len(b[0])):\n",
        "#         out[i].append(0)\n",
        "[out[i].append(0)  for i in range(len(a))  for j in range(len(b[0])) ]\n",
        "print(out)\n",
        "\n",
        "# 2x2"
      ],
      "metadata": {
        "colab": {
          "base_uri": "https://localhost:8080/"
        },
        "id": "oqcc9zcsQmh1",
        "outputId": "02d12e0a-0830-4160-c8d9-8cf99f471295"
      },
      "execution_count": null,
      "outputs": [
        {
          "output_type": "stream",
          "name": "stdout",
          "text": [
            "[[0, 0], [0, 0], [0, 0], [0, 0]]\n"
          ]
        }
      ]
    },
    {
      "cell_type": "code",
      "source": [
        "a = [[1,2,3,4]]\n",
        "b = [[1,4],[2,5],[3,6],[4,7]]\n",
        "\n",
        "def output_matrix(a,b):\n",
        "    out = []\n",
        "    [ out.append([])for i in range(len(a)) ]\n",
        "    [out[i].append(0)  for i in range(len(a))  for j in range(len(b[0])) ]\n",
        "    return out\n",
        "\n",
        "output_matrix(a,b)"
      ],
      "metadata": {
        "colab": {
          "base_uri": "https://localhost:8080/"
        },
        "id": "39A3CgyOZYHA",
        "outputId": "d7752ba1-5271-43bc-fc0b-720e254d6603"
      },
      "execution_count": null,
      "outputs": [
        {
          "output_type": "execute_result",
          "data": {
            "text/plain": [
              "[[0, 0]]"
            ]
          },
          "metadata": {},
          "execution_count": 4
        }
      ]
    },
    {
      "cell_type": "code",
      "source": [
        "a=[[1,2,3],[3,4,5]]  #2X3\n",
        "b=[[2,3],[4,6],[5,7]]   #3X2\n",
        "# a = [[1,2,3,4]]\n",
        "# b = [[1,4],[2,5],[3,6],[4,7]]\n",
        "\n",
        "def output_matrix(a,b):\n",
        "    global out\n",
        "    out = []\n",
        "    [ out.append([])for i in range(len(a)) ]\n",
        "    [out[i].append(0)  for i in range(len(a))  for j in range(len(b[0])) ]\n",
        "    return out\n",
        "\n",
        "print(output_matrix(a,b))\n",
        "\n",
        "for i in range(len(a)):\n",
        "  for k in range(len(b[0])):\n",
        "    for j in range(len(b)):\n",
        "        out[i][k]+=(a[i][j]*b[j][k])\n",
        "print(out)"
      ],
      "metadata": {
        "colab": {
          "base_uri": "https://localhost:8080/"
        },
        "id": "n47IrwbqOS10",
        "outputId": "1f9be440-f652-4062-ff2a-66113a16ab0d"
      },
      "execution_count": null,
      "outputs": [
        {
          "output_type": "stream",
          "name": "stdout",
          "text": [
            "[[0, 0], [0, 0]]\n",
            "[[25, 36], [47, 68]]\n"
          ]
        }
      ]
    }
  ]
}